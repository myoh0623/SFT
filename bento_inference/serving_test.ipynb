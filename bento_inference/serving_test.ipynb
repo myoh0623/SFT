{
 "cells": [
  {
   "cell_type": "code",
   "execution_count": 31,
   "metadata": {},
   "outputs": [],
   "source": [
    "import tensorflow as tf\n",
    "import bentoml\n",
    "import PIL.Image as Image\n",
    "import numpy as np"
   ]
  },
  {
   "cell_type": "code",
   "execution_count": 32,
   "metadata": {},
   "outputs": [
    {
     "name": "stderr",
     "output_type": "stream",
     "text": [
      "/tmp/ipykernel_2004/3638141814.py:5: RuntimeWarning: coroutine 'main' was never awaited\n",
      "  predict_data = user_input_image[np.newaxis, ...].tolist()\n",
      "RuntimeWarning: Enable tracemalloc to get the object allocation traceback\n"
     ]
    }
   ],
   "source": [
    "IMAGE_SHAPE = (224, 224)\n",
    "user_input_image = tf.keras.utils.get_file('image.jpg','https://storage.googleapis.com/download.tensorflow.org/example_images/grace_hopper.jpg')\n",
    "user_input_image = Image.open(user_input_image).resize(IMAGE_SHAPE)\n",
    "user_input_image = np.array(user_input_image)/255.0\n",
    "predict_data = user_input_image[np.newaxis, ...].tolist()"
   ]
  },
  {
   "cell_type": "code",
   "execution_count": 33,
   "metadata": {},
   "outputs": [
    {
     "name": "stderr",
     "output_type": "stream",
     "text": [
      "'Runner.init_local' is for debugging and testing only. Make sure to remove it before deploying to production.\n",
      "/home/user/anaconda3/envs/bentoml/lib/python3.10/typing.py:1415: RuntimeWarning: coroutine 'main' was never awaited\n",
      "  for base in cls.__mro__[:-1]:  # without object\n",
      "RuntimeWarning: Enable tracemalloc to get the object allocation traceback\n"
     ]
    },
    {
     "name": "stdout",
     "output_type": "stream",
     "text": [
      "[[ 0.19967595  1.0678965  -0.09609853 ...  0.10602828 -0.56032073\n",
      "  -0.07089337]]\n"
     ]
    }
   ],
   "source": [
    "mobilenet_runner = bentoml.tensorflow.get(\"mobilenet:0.1\").to_runner()\n",
    "mobilenet_runner.init_local()\n",
    "result = mobilenet_runner.run(predict_data)\n",
    "print(result)"
   ]
  },
  {
   "cell_type": "code",
   "execution_count": 34,
   "metadata": {},
   "outputs": [],
   "source": [
    "from load_model import postprocessing"
   ]
  },
  {
   "cell_type": "code",
   "execution_count": 35,
   "metadata": {},
   "outputs": [
    {
     "name": "stdout",
     "output_type": "stream",
     "text": [
      "{'predicted': '[ 0.19967595  1.0678965  -0.09609853 ...  0.10602828 -0.56032073\\n -0.07089337]', 'class': 'military uniform'}\n"
     ]
    }
   ],
   "source": [
    "predicted_class = np.argmax(result[0], axis=-1)\n",
    "predicted_class_name = postprocessing(predicted_class)\n",
    "result = {\"predicted\":str(result[0]), \"class\":predicted_class_name}\n",
    "print(result)"
   ]
  }
 ],
 "metadata": {
  "kernelspec": {
   "display_name": "bentoml",
   "language": "python",
   "name": "python3"
  },
  "language_info": {
   "codemirror_mode": {
    "name": "ipython",
    "version": 3
   },
   "file_extension": ".py",
   "mimetype": "text/x-python",
   "name": "python",
   "nbconvert_exporter": "python",
   "pygments_lexer": "ipython3",
   "version": "3.10.9"
  },
  "orig_nbformat": 4,
  "vscode": {
   "interpreter": {
    "hash": "6e06c26114b0c5c9844c0b36fe00c64521365963762b9729f92cfb84c5d4b193"
   }
  }
 },
 "nbformat": 4,
 "nbformat_minor": 2
}
